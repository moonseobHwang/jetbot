{
 "cells": [
  {
   "cell_type": "code",
   "execution_count": 1,
   "metadata": {},
   "outputs": [],
   "source": [
    "# IPython Libraries for display and widgets\n",
    "import traitlets\n",
    "import ipywidgets.widgets as widgets\n",
    "from IPython.display import display\n",
    "\n",
    "# Camera and Motor Interface for JetBot\n",
    "from jetbot import Robot\n",
    "\n",
    "# Python basic pakcages for image annotation\n",
    "from uuid import uuid1\n",
    "import os\n",
    "import json\n",
    "import glob\n",
    "import datetime\n",
    "import numpy as np\n",
    "import cv2\n",
    "import time\n",
    "\n",
    "####\n",
    "from jetbot import Robot\n",
    "robot = Robot()\n"
   ]
  },
  {
   "cell_type": "code",
   "execution_count": 2,
   "metadata": {},
   "outputs": [
    {
     "data": {
      "application/vnd.jupyter.widget-view+json": {
       "model_id": "9c7dc1cf9af743edb042e6d0718cc494",
       "version_major": 2,
       "version_minor": 0
      },
      "text/plain": [
       "Controller()"
      ]
     },
     "metadata": {},
     "output_type": "display_data"
    }
   ],
   "source": [
    "controller = widgets.Controller(index=0)\n",
    "\n",
    "display(controller)"
   ]
  },
  {
   "cell_type": "code",
   "execution_count": 3,
   "metadata": {},
   "outputs": [
    {
     "name": "stdout",
     "output_type": "stream",
     "text": [
      "Directories not created becasue they already exist\n"
     ]
    },
    {
     "data": {
      "application/vnd.jupyter.widget-view+json": {
       "model_id": "4bfbe3fe7c964eafa6e46350d662e037",
       "version_major": 2,
       "version_minor": 0
      },
      "text/plain": [
       "HBox(children=(VBox(children=(IntText(value=5, description='count'), Button(description='save_snapshot', layou…"
      ]
     },
     "metadata": {},
     "output_type": "display_data"
    }
   ],
   "source": [
    "DATASET_DIR = 'dataset_xy'\n",
    "\n",
    "time.sleep(1)\n",
    "# display(widgets.HBox([image_widget, target_widget]), x_slider, y_slider)\n",
    "# widgets.jsdlink((controller.axes[2], 'value'), (x_slider, 'value'))\n",
    "# widgets.jsdlink((controller.axes[3], 'value'), (y_slider, 'value'))\n",
    "\n",
    "# we have this \"try/except\" statement because these next functions can throw an error if the directories exist already\n",
    "try:\n",
    "    os.makedirs(DATASET_DIR)\n",
    "except FileExistsError:\n",
    "    print('Directories not created becasue they already exist')\n",
    "\n",
    "for b in controller.buttons:\n",
    "    b.unobserve_all()\n",
    "\n",
    "count_widget = widgets.IntText(description='count', value=len(glob.glob(os.path.join(DATASET_DIR, '*.jpg'))))\n",
    "\n",
    "\n",
    "# controller.buttons[13].observe(save_snapshot, names='value')\n",
    "\n",
    "# create buttons\n",
    "button_layout = widgets.Layout(width='100px', height='80px', align_self='center')\n",
    "stop_button = widgets.Button(description='stop', button_style='danger', layout=button_layout)\n",
    "forward_button = widgets.Button(description='forward1', layout=button_layout)\n",
    "backward_button = widgets.Button(description='backward', layout=button_layout)\n",
    "left_button = widgets.Button(description='left', layout=button_layout)\n",
    "right_button = widgets.Button(description='right', layout=button_layout)\n",
    "fright_button = widgets.Button(description='fright', layout=button_layout)\n",
    "fleft_button = widgets.Button(description='fleft', layout=button_layout)\n",
    "bright_button = widgets.Button(description='bright', layout=button_layout)\n",
    "bleft_button = widgets.Button(description='bleft', layout=button_layout)\n",
    "save_image = widgets.Button(description='save_snapshot', layout=button_layout)\n",
    "\n",
    "# display buttons\n",
    "middle_box1 = widgets.HBox([fleft_button,forward_button , fright_button], layout=widgets.Layout(align_self='center'))\n",
    "middle_box = widgets.HBox([left_button, stop_button, right_button], layout=widgets.Layout(align_self='center'))\n",
    "middle_box2 = widgets.HBox([bleft_button, backward_button, bright_button], layout=widgets.Layout(align_self='center'))\n",
    "\n",
    "controls_box = widgets.VBox([middle_box1, middle_box, middle_box2])\n",
    "ctrl = (widgets.VBox([count_widget,save_image]))\n",
    "display(widgets.HBox([\n",
    "    ctrl,\n",
    "    controls_box,\n",
    "]))"
   ]
  },
  {
   "cell_type": "code",
   "execution_count": 4,
   "metadata": {},
   "outputs": [],
   "source": [
    "def stop(change):\n",
    "    robot.stop()\n",
    "    \n",
    "def step_forward(change):\n",
    "    robot.set_motors(0.18, 0.17)\n",
    "\n",
    "def step_backward(change):\n",
    "    robot.set_motors(-0.098, -0.1)\n",
    "\n",
    "def step_left(change):\n",
    "    robot.left(0.1)\n",
    "\n",
    "def step_right(change):\n",
    "    robot.right(0.1)\n",
    "\n",
    "def step_fright(change):\n",
    "    robot.set_motors(0.2, 0.1)\n",
    "\n",
    "def step_fleft(change):\n",
    "    robot.set_motors(0.1, 0.2)\n",
    "\n",
    "def step_bright(change):\n",
    "    robot.set_motors(-0.15, -0.1)\n",
    "\n",
    "def step_bleft(change): \n",
    "    robot.set_motors(-0.1, -0.15)\n",
    "    \n",
    "def save_snapshot(change):\n",
    "    date = timestr()\n",
    "    image_path = os.path.join(DATASET_DIR,date + '.jpg')\n",
    "    with open(image_path, 'wb') as f:\n",
    "        f.write(image_widget.value)\n",
    "    count_widget.value = len(glob.glob(os.path.join(DATASET_DIR, '*.jpg')))\n"
   ]
  },
  {
   "cell_type": "code",
   "execution_count": 5,
   "metadata": {},
   "outputs": [],
   "source": [
    "# link buttons to actions\n",
    "stop_button.on_click(stop)\n",
    "forward_button.on_click(step_forward)\n",
    "backward_button.on_click(step_backward)\n",
    "left_button.on_click(step_left)\n",
    "right_button.on_click(step_right)\n",
    "fright_button.on_click(step_fright)\n",
    "fleft_button.on_click(step_fleft)\n",
    "bleft_button.on_click(step_bleft)\n",
    "bright_button.on_click(step_bright)\n",
    "save_image.on_click(save_snapshot)"
   ]
  },
  {
   "cell_type": "code",
   "execution_count": 6,
   "metadata": {},
   "outputs": [],
   "source": [
    "def timestr():\n",
    "    return str(datetime.datetime.now().strftime('%Y-%m-%d_%H-%M-%S'))\n",
    "\n",
    "!zip -r -q road_following_{DATASET_DIR}_{timestr()}.zip {DATASET_DIR}"
   ]
  },
  {
   "cell_type": "code",
   "execution_count": null,
   "metadata": {},
   "outputs": [],
   "source": []
  }
 ],
 "metadata": {
  "kernelspec": {
   "display_name": "Python 3",
   "language": "python",
   "name": "python3"
  },
  "language_info": {
   "codemirror_mode": {
    "name": "ipython",
    "version": 3
   },
   "file_extension": ".py",
   "mimetype": "text/x-python",
   "name": "python",
   "nbconvert_exporter": "python",
   "pygments_lexer": "ipython3",
   "version": "3.6.9"
  }
 },
 "nbformat": 4,
 "nbformat_minor": 4
}
